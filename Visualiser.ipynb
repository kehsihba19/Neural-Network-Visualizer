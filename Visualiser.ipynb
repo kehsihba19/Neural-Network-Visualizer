{
 "cells": [
  {
   "cell_type": "markdown",
   "metadata": {},
   "source": [
    "# Importing Libraries\n"
   ]
  },
  {
   "cell_type": "code",
   "execution_count": 5,
   "metadata": {},
   "outputs": [],
   "source": [
    "%matplotlib inline\n",
    "import tensorflow as tf\n",
    "import numpy as np\n",
    "import matplotlib.pyplot as plt"
   ]
  },
  {
   "cell_type": "markdown",
   "metadata": {},
   "source": [
    "# Dowloading dataset"
   ]
  },
  {
   "cell_type": "code",
   "execution_count": 7,
   "metadata": {},
   "outputs": [
    {
     "name": "stdout",
     "output_type": "stream",
     "text": [
      "Downloading data from https://storage.googleapis.com/tensorflow/tf-keras-datasets/mnist.npz\n",
      "11493376/11490434 [==============================] - 6s 1us/step\n"
     ]
    }
   ],
   "source": [
    "(x_train,y_train),(x_test,y_test) = tf.keras.datasets.mnist.load_data()"
   ]
  },
  {
   "cell_type": "markdown",
   "metadata": {},
   "source": [
    "# Plot Examples"
   ]
  },
  {
   "cell_type": "code",
   "execution_count": 10,
   "metadata": {},
   "outputs": [
    {
     "data": {
      "image/png": "[encoded data removed]",
      "text/plain": [
       "<Figure size 720x720 with 16 Axes>"
      ]
     },
     "metadata": {},
     "output_type": "display_data"
    }
   ],
   "source": [
    "plt.figure(figsize=(10,10))\n",
    "\n",
    "for i in range(0,16):\n",
    "    plt.subplot(4,4,i+1)\n",
    "    plt.imshow(x_train[i],cmap='gray') #cmap value='binary' for white+black\n",
    "    plt.xlabel(str(y_train[i]))\n",
    "    plt.xticks([])\n",
    "    plt.yticks([])\n",
    "plt.show()"
   ]
  },
  {
   "cell_type": "markdown",
   "metadata": {},
   "source": [
    "# Normalize Data"
   ]
  },
  {
   "cell_type": "code",
   "execution_count": 15,
   "metadata": {},
   "outputs": [],
   "source": [
    "x_train = np.reshape(x_train,(60000,28*28))\n",
    "x_test = np.reshape(x_test,(10000,28*28))\n",
    "\n",
    "x_train = x_train / 255.\n",
    "x_test = x_test / 255."
   ]
  },
  {
   "cell_type": "markdown",
   "metadata": {},
   "source": [
    "# Create a Neural Network Model"
   ]
  },
  {
   "cell_type": "code",
   "execution_count": 18,
   "metadata": {},
   "outputs": [],
   "source": [
    "model = tf.keras.models.Sequential([\n",
    "    tf.keras.layers.Dense(32,activation='sigmoid',input_shape=(784,)),\n",
    "    tf.keras.layers.Dense(32,activation='sigmoid'),\n",
    "    tf.keras.layers.Dense(10,activation='softmax')\n",
    "])\n",
    "\n",
    "model.compile(\n",
    "    loss='sparse_categorical_crossentropy',\n",
    "    optimizer='adam',\n",
    "    metrics=['accuracy']\n",
    ")"
   ]
  },
  {
   "cell_type": "markdown",
   "metadata": {},
   "source": [
    "# Train the Model"
   ]
  },
  {
   "cell_type": "code",
   "execution_count": 20,
   "metadata": {},
   "outputs": [
    {
     "name": "stdout",
     "output_type": "stream",
     "text": [
      "Epoch 1/20\n",
      "59/59 - 1s - loss: 0.3828 - accuracy: 0.9099 - val_loss: 0.3679 - val_accuracy: 0.9141\n",
      "Epoch 2/20\n",
      "59/59 - 1s - loss: 0.3538 - accuracy: 0.9141 - val_loss: 0.3419 - val_accuracy: 0.9192\n",
      "Epoch 3/20\n",
      "59/59 - 1s - loss: 0.3297 - accuracy: 0.9186 - val_loss: 0.3217 - val_accuracy: 0.9228\n",
      "Epoch 4/20\n",
      "59/59 - 1s - loss: 0.3095 - accuracy: 0.9227 - val_loss: 0.3035 - val_accuracy: 0.9257\n",
      "Epoch 5/20\n",
      "59/59 - 1s - loss: 0.2923 - accuracy: 0.9261 - val_loss: 0.2884 - val_accuracy: 0.9291\n",
      "Epoch 6/20\n",
      "59/59 - 1s - loss: 0.2773 - accuracy: 0.9297 - val_loss: 0.2759 - val_accuracy: 0.9315\n",
      "Epoch 7/20\n",
      "59/59 - 1s - loss: 0.2643 - accuracy: 0.9320 - val_loss: 0.2647 - val_accuracy: 0.9333\n",
      "Epoch 8/20\n",
      "59/59 - 1s - loss: 0.2529 - accuracy: 0.9350 - val_loss: 0.2543 - val_accuracy: 0.9366\n",
      "Epoch 9/20\n",
      "59/59 - 1s - loss: 0.2425 - accuracy: 0.9372 - val_loss: 0.2460 - val_accuracy: 0.9373\n",
      "Epoch 10/20\n",
      "59/59 - 1s - loss: 0.2331 - accuracy: 0.9393 - val_loss: 0.2378 - val_accuracy: 0.9390\n",
      "Epoch 11/20\n",
      "59/59 - 1s - loss: 0.2245 - accuracy: 0.9414 - val_loss: 0.2306 - val_accuracy: 0.9395\n",
      "Epoch 12/20\n",
      "59/59 - 1s - loss: 0.2169 - accuracy: 0.9429 - val_loss: 0.2239 - val_accuracy: 0.9411\n",
      "Epoch 13/20\n",
      "59/59 - 1s - loss: 0.2098 - accuracy: 0.9448 - val_loss: 0.2186 - val_accuracy: 0.9422\n",
      "Epoch 14/20\n",
      "59/59 - 1s - loss: 0.2033 - accuracy: 0.9463 - val_loss: 0.2123 - val_accuracy: 0.9432\n",
      "Epoch 15/20\n",
      "59/59 - 0s - loss: 0.1972 - accuracy: 0.9477 - val_loss: 0.2076 - val_accuracy: 0.9449\n",
      "Epoch 16/20\n",
      "59/59 - 1s - loss: 0.1916 - accuracy: 0.9492 - val_loss: 0.2028 - val_accuracy: 0.9454\n",
      "Epoch 17/20\n",
      "59/59 - 1s - loss: 0.1862 - accuracy: 0.9504 - val_loss: 0.1983 - val_accuracy: 0.9452\n",
      "Epoch 18/20\n",
      "59/59 - 1s - loss: 0.1811 - accuracy: 0.9513 - val_loss: 0.1936 - val_accuracy: 0.9465\n",
      "Epoch 19/20\n",
      "59/59 - 1s - loss: 0.1766 - accuracy: 0.9523 - val_loss: 0.1906 - val_accuracy: 0.9468\n",
      "Epoch 20/20\n",
      "59/59 - 0s - loss: 0.1722 - accuracy: 0.9533 - val_loss: 0.1872 - val_accuracy: 0.9480\n"
     ]
    }
   ],
   "source": [
    "_ = model.fit(\n",
    "    x_train,y_train,\n",
    "    validation_data=(x_test,y_test),\n",
    "    epochs=20, batch_size=1024,\n",
    "    verbose=2\n",
    ")"
   ]
  },
  {
   "cell_type": "markdown",
   "metadata": {},
   "source": [
    "# Saving model"
   ]
  },
  {
   "cell_type": "code",
   "execution_count": 21,
   "metadata": {},
   "outputs": [],
   "source": [
    "model.save('model.h5')"
   ]
  },
  {
   "cell_type": "markdown",
   "metadata": {},
   "source": [
    "# ML Server"
   ]
  },
  {
   "cell_type": "code",
   "execution_count": 3,
   "metadata": {},
   "outputs": [
    {
     "name": "stdout",
     "output_type": "stream",
     "text": [
      "Overwriting ml_server.py\n"
     ]
    }
   ],
   "source": [
    "%%writefile ml_server.py\n",
    "import json\n",
    "import tensorflow as tf\n",
    "import numpy as np\n",
    "import random\n",
    "\n",
    "from flask import Flask, request\n",
    "\n",
    "app=Flask(__name__)\n",
    "\n",
    "model=tf.keras.models.load_model('model.h5')\n",
    "feature_model = tf.keras.models.Model(\n",
    "    model.inputs,\n",
    "    [layer.output for layer in model.layers]\n",
    ")\n",
    "_, (x_test,_) = tf.keras.datasets.mnist.load_data()\n",
    "x_test = x_test/255.\n",
    "\n",
    "def get_prediction():\n",
    "    index = np.random.choice(x_test.shape[0])\n",
    "    image=x_test[index,:,:]\n",
    "    image_arr=np.reshape(image,(1,784))\n",
    "    return feature_model.predict(image_arr),image\n",
    "\n",
    "@app.route('/', methods=['GET','POST'])\n",
    "def index():\n",
    "    if request.method == 'POST':\n",
    "        preds, image= get_prediction()\n",
    "        final_preds=[p.tolist() for p in preds]\n",
    "        return json.dumps({\n",
    "            'prediction': final_preds,\n",
    "            'image': image.tolist()\n",
    "        })\n",
    "    else:\n",
    "        return 'LOL'\n",
    "    \n",
    "if __name__ == '__main__':\n",
    "    app.run()"
   ]
  },
  {
   "cell_type": "markdown",
   "metadata": {},
   "source": [
    "# Streamlit application"
   ]
  },
  {
   "cell_type": "code",
   "execution_count": 9,
   "metadata": {},
   "outputs": [
    {
     "name": "stdout",
     "output_type": "stream",
     "text": [
      "Overwriting app.py\n"
     ]
    }
   ],
   "source": [
    "%%writefile app.py\n",
    "import streamlit as st\n",
    "import json\n",
    "import requests\n",
    "import matplotlib.pyplot as plt\n",
    "import numpy as np\n",
    "st.set_option('deprecation.showPyplotGlobalUse', False)\n",
    "URI = 'http://127.0.0.1:5000'\n",
    "\n",
    "st.title('Neural Network Visualizer')\n",
    "st.sidebar.markdown('## Input Image')\n",
    "\n",
    "if st.button('Get random prediction'):\n",
    "    response = requests.post(URI, data={})\n",
    "    response = json.loads(response.text)\n",
    "    preds = response.get('prediction')\n",
    "    image = response.get('image')\n",
    "    image = np.reshape(image,(28,28))\n",
    "    \n",
    "    st.sidebar.image(image,width=150)\n",
    "    \n",
    "    for layer, p in enumerate(preds):\n",
    "        numbers = np.squeeze(np.array(p))\n",
    "        plt.figure(figsize=(32,4))\n",
    "        \n",
    "        if layer==2:\n",
    "            row=1\n",
    "            col=10\n",
    "        else:\n",
    "            row=2\n",
    "            col=16\n",
    "            \n",
    "        for i,number in enumerate(numbers):\n",
    "            plt.subplot(row,col,i+1)\n",
    "            plt.imshow(number*np.ones((8,8,3)).astype('float32'))\n",
    "            plt.xticks([])\n",
    "            plt.yticks([])\n",
    "            \n",
    "            if layer==2:\n",
    "                plt.xlabel(str(i), fontsize=40)\n",
    "        plt.subplots_adjust(wspace=0.05,hspace=0.05)\n",
    "        plt.tight_layout()\n",
    "        st.text('Layer {}'.format(layer+1))\n",
    "        st.pyplot()"
   ]
  },
  {
   "cell_type": "code",
   "execution_count": null,
   "metadata": {},
   "outputs": [],
   "source": []
  }
 ],
 "metadata": {
  "kernelspec": {
   "display_name": "Python 3",
   "language": "python",
   "name": "python3"
  },
  "language_info": {
   "codemirror_mode": {
    "name": "ipython",
    "version": 3
   },
   "file_extension": ".py",
   "mimetype": "text/x-python",
   "name": "python",
   "nbconvert_exporter": "python",
   "pygments_lexer": "ipython3",
   "version": "3.8.5"
  }
 },
 "nbformat": 4,
 "nbformat_minor": 4
}
